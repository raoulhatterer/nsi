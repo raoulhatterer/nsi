{
 "cells": [
  {
   "cell_type": "markdown",
   "metadata": {},
   "source": [
    "## Exercice 1\n",
    "Écrire une fonction récursive ```puissance(x,n)``` qui calcule le nombre $x^n$."
   ]
  },
  {
   "cell_type": "code",
   "execution_count": 1,
   "metadata": {},
   "outputs": [],
   "source": [
    "def puissance(x,n):\n",
    "    if n == 1 :\n",
    "        return x\n",
    "    else : \n",
    "        return x * puissance(x, n-1)"
   ]
  },
  {
   "cell_type": "code",
   "execution_count": 4,
   "metadata": {},
   "outputs": [
    {
     "data": {
      "text/plain": [
       "1000000"
      ]
     },
     "execution_count": 4,
     "metadata": {},
     "output_type": "execute_result"
    }
   ],
   "source": [
    "puissance(10,6)"
   ]
  },
  {
   "cell_type": "markdown",
   "metadata": {},
   "source": [
    "## Exercice 2\n",
    "Écrire une fonction récursive ```boucle(i,k)``` qui affiche les entiers entre ```i``` et ```k```. Par exemple, ```boucle(2,5)``` doit afficher ```2 3 4 5```"
   ]
  },
  {
   "cell_type": "code",
   "execution_count": 7,
   "metadata": {},
   "outputs": [],
   "source": [
    "def boucle(i,k):\n",
    "    if i<=k :\n",
    "        print(i)\n",
    "        boucle(i+1,k)"
   ]
  },
  {
   "cell_type": "code",
   "execution_count": 8,
   "metadata": {},
   "outputs": [
    {
     "name": "stdout",
     "output_type": "stream",
     "text": [
      "2\n",
      "3\n",
      "4\n",
      "5\n"
     ]
    }
   ],
   "source": [
    "boucle(2,5)"
   ]
  },
  {
   "cell_type": "markdown",
   "metadata": {},
   "source": [
    "## Exercice 3\n",
    "On rappelle que le PGCD (plus grand diviseur commun de deux nombres) vérifie la propriété suivante : si la division euclidienne de $a$ par $b$ s'écrit $a = b \\times q + r$, alors $pgcd(a,b)=pgcd(b,r)$. \n",
    "\n",
    "Cette propriété est à la base de l'algorithme d'Euclide\n",
    "\n",
    "Exemple : $pgcd(24,18)=pgcd(18,6)=pgcd(6,0)$, donc $pgcd(24,18)=6$\n",
    "\n",
    "Écrire un algorithme récursif ```pgcd(a,b)```."
   ]
  },
  {
   "cell_type": "code",
   "execution_count": 16,
   "metadata": {},
   "outputs": [],
   "source": [
    "def pgcd(a,b):\n",
    "    if b == 0 :\n",
    "        return a\n",
    "    else :\n",
    "        return pgcd(b,a%b)"
   ]
  },
  {
   "cell_type": "code",
   "execution_count": 19,
   "metadata": {},
   "outputs": [
    {
     "name": "stdout",
     "output_type": "stream",
     "text": [
      "24 0\n"
     ]
    },
    {
     "data": {
      "text/plain": [
       "24"
      ]
     },
     "execution_count": 19,
     "metadata": {},
     "output_type": "execute_result"
    }
   ],
   "source": [
    "pgcd(24,24)"
   ]
  },
  {
   "cell_type": "markdown",
   "metadata": {},
   "source": [
    "## Exercice 4\n",
    "La conjecture de Syracuse (ou de Collatz) postule ceci :  \n",
    "\n",
    "*Prenons un nombre $n$ : si $n$ est pair, on le divise par 2, sinon on le multiplie par 3 puis on ajoute 1. On recommence cette opération tant que possible. Au bout d'un certain temps, on finira toujours par tomber sur le nombre 1.*\n",
    "\n",
    "Proposer un programme récursif ```syracuse(n)``` écrivant tous les termes de la suite de Syracuse, s'arrêtant (on l'espère) à la valeur 1."
   ]
  },
  {
   "cell_type": "code",
   "execution_count": null,
   "metadata": {},
   "outputs": [],
   "source": []
  },
  {
   "cell_type": "code",
   "execution_count": 22,
   "metadata": {},
   "outputs": [],
   "source": [
    "def syracuse(n):\n",
    "    print(n)\n",
    "    if n == 1:\n",
    "        return None\n",
    "    if n % 2 == 0 :\n",
    "        syracuse(n//2)\n",
    "    else :\n",
    "        syracuse(3*n+1)"
   ]
  },
  {
   "cell_type": "code",
   "execution_count": 25,
   "metadata": {},
   "outputs": [
    {
     "name": "stdout",
     "output_type": "stream",
     "text": [
      "14\n",
      "7\n",
      "22\n",
      "11\n",
      "34\n",
      "17\n",
      "52\n",
      "26\n",
      "13\n",
      "40\n",
      "20\n",
      "10\n",
      "5\n",
      "16\n",
      "8\n",
      "4\n",
      "2\n",
      "1\n"
     ]
    }
   ],
   "source": [
    "syracuse(14)"
   ]
  },
  {
   "cell_type": "markdown",
   "metadata": {},
   "source": [
    "## Exercice 5\n",
    "Reproduire le dessin suivant, à l'aide du module ```turtle```.\n",
    "![](data/carres_turtle.png)"
   ]
  },
  {
   "cell_type": "code",
   "execution_count": null,
   "metadata": {},
   "outputs": [],
   "source": [
    "from turtle import *\n",
    "\n",
    "\n",
    "def carre(c):\n",
    "    for k in range(4):\n",
    "        forward(c)\n",
    "        right(90)\n",
    "\n",
    "def base(c):\n",
    "    carre(c)\n",
    "    forward(c/2)\n",
    "    right(45)\n",
    "\n",
    "def trace(c):\n",
    "    if c < 5 :\n",
    "        return None\n",
    "    else :\n",
    "        base(c)\n",
    "        return trace(c/(2**0.5))\n",
    "    \n",
    "trace(200)"
   ]
  },
  {
   "cell_type": "markdown",
   "metadata": {},
   "source": [
    "## Exercice 6\n",
    "Proposer une nouvelle fonction récursive ```puissance(x,n)``` qui calcule le nombre $x^n$. Pour optimiser la fonction déjà construite à l'exercice 1, utiliser le fait que :\n",
    "- si $n$ est pair, $a^n=(a \\times a)^{n/2}$\n",
    "- sinon $a^n=a \\times (a \\times a)^{(n-1)/2}$"
   ]
  },
  {
   "cell_type": "code",
   "execution_count": 32,
   "metadata": {},
   "outputs": [],
   "source": [
    "def puissance(x,n):\n",
    "    if n == 1 :\n",
    "        return x\n",
    "    if n % 2 == 0:\n",
    "        return puissance(x*x,n//2)\n",
    "    else :\n",
    "        return puissance(x*x,(n-1)//2)"
   ]
  },
  {
   "cell_type": "markdown",
   "metadata": {},
   "source": [
    "## Exercice 7\n",
    "Écrire un algorithme récursif ```recherche(lst,m)``` qui recherche la présence de la valeur ```m``` dans une liste triée ```lst```. Cette fonction doit renvoyer un booléen."
   ]
  },
  {
   "cell_type": "code",
   "execution_count": 46,
   "metadata": {},
   "outputs": [],
   "source": [
    "def recherche(lst,m):\n",
    "    n = len(lst)\n",
    "    if n == 0 :\n",
    "        return False\n",
    "    if lst[n//2] == m :\n",
    "        return True\n",
    "    if lst[n//2] < m :\n",
    "        return recherche(lst[(n//2+1):],m)\n",
    "    else :\n",
    "        return recherche(lst[:n//2],m)"
   ]
  },
  {
   "cell_type": "code",
   "execution_count": 47,
   "metadata": {},
   "outputs": [
    {
     "name": "stdout",
     "output_type": "stream",
     "text": [
      "False\n"
     ]
    }
   ],
   "source": [
    "print(recherche([1,5,9,13,16],12))"
   ]
  }
 ],
 "metadata": {
  "kernelspec": {
   "display_name": "Python 3.6.9 64-bit",
   "language": "python",
   "name": "python36964bit9f899ef1f6144dc3be0f32d67042f5ff"
  },
  "language_info": {
   "codemirror_mode": {
    "name": "ipython",
    "version": 3
   },
   "file_extension": ".py",
   "mimetype": "text/x-python",
   "name": "python",
   "nbconvert_exporter": "python",
   "pygments_lexer": "ipython3",
   "version": "3.6.9"
  }
 },
 "nbformat": 4,
 "nbformat_minor": 4
}
